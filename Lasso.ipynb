{
 "cells": [
  {
   "cell_type": "markdown",
   "id": "00e19a12",
   "metadata": {},
   "source": [
    "# LASSO AND INDUCTIVE CONFORMAL PREDICTION"
   ]
  },
  {
   "cell_type": "markdown",
   "id": "35a8531d",
   "metadata": {},
   "source": [
    "__TASK 1:Loading the scikit-learn version of the diabetes dataset into Jupyter\n",
    "notebook using the load_diabetes function__"
   ]
  },
  {
   "cell_type": "code",
   "execution_count": 1,
   "id": "5f0ad76c",
   "metadata": {},
   "outputs": [
    {
     "name": "stdout",
     "output_type": "stream",
     "text": [
      "Keys of Diabetes_dataset:\n",
      " dict_keys(['data', 'target', 'frame', 'DESCR', 'feature_names', 'data_filename', 'target_filename'])\n",
      ".. _diabetes_dataset:\n",
      "\n",
      "Diabetes dataset\n",
      "----------------\n",
      "\n",
      "Ten baseline variables, age, sex, body mass index, average blood\n",
      "pressure, and six blood serum measurements were obtained for each of n =\n",
      "442 diabetes patients, as well as the response of interest, a\n",
      "quantitative measure of disease progression one year after baseline.\n",
      "\n",
      "**Data Set Characteristics:**\n",
      "\n",
      "  :Number of Instances: 442\n",
      "\n",
      "  :Number of Attributes: First 10 columns are numeric predictive values\n",
      "\n",
      "  :Target: Column 11 is a quantitative measure of disease progression one year after baseline\n",
      "\n",
      "  :Attribute Information:\n",
      "      - age     age in years\n",
      "      - sex\n",
      "      - bmi     body mass index\n",
      "      - bp      average blood pressure\n",
      "      - s1      tc, total serum cholesterol\n",
      "      - s2      ldl, low-density lipoproteins\n",
      "      - s3      hdl, high-density lipoproteins\n",
      "      - s4      tch, total cholesterol / HDL\n",
      "      - s5      ltg, possibly log of serum triglycerides level\n",
      "      - s6      glu, blood sugar level\n",
      "\n",
      "Note: Each of these 10 feature variables have been mean centered and scaled by the standard deviation times `n_samples` (i.e. the sum of squares of each column totals 1).\n",
      "\n",
      "Source URL:\n",
      "https://www4.stat.ncsu.edu/~boos/var.select/diabetes.html\n",
      "\n",
      "For more information see:\n",
      "Bradley Efron, Trevor Hastie, Iain Johnstone and Robert Tibshirani (2004) \"Least Angle Regression,\" Annals of Statistics (with discussion), 407-499.\n",
      "(https://web.stanford.edu/~hastie/Papers/LARS/LeastAngle_2002.pdf)\n"
     ]
    }
   ],
   "source": [
    "import numpy as np\n",
    "from sklearn.datasets import load_diabetes\n",
    "Diabetes= load_diabetes()\n",
    "print(\"Keys of Diabetes_dataset:\\n\", Diabetes.keys())\n",
    "print(Diabetes.DESCR)"
   ]
  },
  {
   "cell_type": "markdown",
   "id": "5d49bba4",
   "metadata": {},
   "source": [
    "__TASK 2:Splitting the dataset into the training and test sets using the function\n",
    "train_test_split in scikit-learn. Here and below using birthday\n",
    "(in the format DDMM omitting leading zeros if any) as random_state.__"
   ]
  },
  {
   "cell_type": "code",
   "execution_count": 2,
   "id": "70e1968b",
   "metadata": {},
   "outputs": [
    {
     "name": "stdout",
     "output_type": "stream",
     "text": [
      "(331, 10)\n",
      "(111, 10)\n",
      "(331,)\n",
      "(111,)\n"
     ]
    }
   ],
   "source": [
    "from sklearn.model_selection import train_test_split\n",
    "X_train, X_test, y_train, y_test= train_test_split(Diabetes['data'],Diabetes['target'],train_size=0.75,test_size=0.25,random_state=3110)\n",
    "print(X_train.shape)\n",
    "print(X_test.shape)\n",
    "print(y_train.shape)\n",
    "print(y_test.shape)"
   ]
  },
  {
   "cell_type": "markdown",
   "id": "3038f8ca",
   "metadata": {},
   "source": [
    "__TASK 3:Answering the following questions:\n",
    "What is the training and test R2\n",
    "for the Lasso model using the default\n",
    "parameters? How many features does this model use? What are the names\n",
    "of those features?__"
   ]
  },
  {
   "cell_type": "markdown",
   "id": "e6f811f7",
   "metadata": {},
   "source": [
    "* As we can see after running this piece of code, Lasso does quiet badly on both testing and training set.\n",
    "* This indicates we are underfitting\n",
    "* Lasso has regularization parameter, alpha that controls how strongly coeffiecients are pushed towards zero.\n",
    "* In case like this here, when we are not mentioning the value of alpha, it takes default value as 1.0"
   ]
  },
  {
   "cell_type": "code",
   "execution_count": 3,
   "id": "7e770564",
   "metadata": {},
   "outputs": [
    {
     "name": "stdout",
     "output_type": "stream",
     "text": [
      "Training R2 score in scikit-learn dataset: 0.35901908382457937\n",
      "Testing R2 score in scikit learn dataset: 0.36586111649693864\n",
      "Number of features used: 3\n",
      "[  0.           0.         325.21633113  27.0710417    0.\n",
      "   0.          -0.           0.         341.80553958   0.        ]\n",
      "All features: ['age', 'sex', 'bmi', 'bp', 's1', 's2', 's3', 's4', 's5', 's6']\n",
      "Feature  used: bmi\n",
      "Feature  used: bp\n",
      "Feature  used: s5\n"
     ]
    }
   ],
   "source": [
    "from sklearn.linear_model import Lasso\n",
    "lasso = Lasso().fit(X_train,y_train)\n",
    "print('Training R2 score in scikit-learn dataset:',lasso.score(X_train,y_train))\n",
    "print('Testing R2 score in scikit learn dataset:',lasso.score(X_test,y_test))\n",
    "print('Number of features used:',np.sum(lasso.coef_ !=0))\n",
    "x = lasso.coef_ \n",
    "print(x)\n",
    "print('All features:',Diabetes.feature_names)\n",
    "for i in range(len(x)):\n",
    "    if x[i] != 0:\n",
    "        print('Feature  used:',Diabetes.feature_names[i])"
   ]
  },
  {
   "cell_type": "markdown",
   "id": "c5482f17",
   "metadata": {},
   "source": [
    "__TASK 4:Now loading the original diabetes dataset from the web page given above. I have pasted the file in the repository but\n",
    "you can also choose the link diabetes data. Download the file\n",
    "Tab-delimited diabetes data (text file)\n",
    "by right-clicking on it. All the remaining tasks should be performed using\n",
    "this file (diabetes.data), which is the original diabetes dataset. The\n",
    "labels are given in the last column of the file diabetes.data__"
   ]
  },
  {
   "cell_type": "code",
   "execution_count": 4,
   "id": "78b58995",
   "metadata": {},
   "outputs": [
    {
     "name": "stdout",
     "output_type": "stream",
     "text": [
      "          age       sex       bmi       map        tc       ldl       hdl  \\\n",
      "0    0.038076  0.050680  0.061696  0.021872 -0.044223 -0.034821 -0.043401   \n",
      "1   -0.001882 -0.044642 -0.051474 -0.026328 -0.008449 -0.019163  0.074412   \n",
      "2    0.085299  0.050680  0.044451 -0.005671 -0.045599 -0.034194 -0.032356   \n",
      "3   -0.089063 -0.044642 -0.011595 -0.036656  0.012191  0.024991 -0.036038   \n",
      "4    0.005383 -0.044642 -0.036385  0.021872  0.003935  0.015596  0.008142   \n",
      "..        ...       ...       ...       ...       ...       ...       ...   \n",
      "437  0.041708  0.050680  0.019662  0.059744 -0.005697 -0.002566 -0.028674   \n",
      "438 -0.005515  0.050680 -0.015906 -0.067642  0.049341  0.079165 -0.028674   \n",
      "439  0.041708  0.050680 -0.015906  0.017282 -0.037344 -0.013840 -0.024993   \n",
      "440 -0.045472 -0.044642  0.039062  0.001215  0.016318  0.015283 -0.028674   \n",
      "441 -0.045472 -0.044642 -0.073030 -0.081414  0.083740  0.027809  0.173816   \n",
      "\n",
      "          tch       ltg       glu  \n",
      "0   -0.002592  0.019908 -0.017646  \n",
      "1   -0.039493 -0.068330 -0.092204  \n",
      "2   -0.002592  0.002864 -0.025930  \n",
      "3    0.034309  0.022692 -0.009362  \n",
      "4   -0.002592 -0.031991 -0.046641  \n",
      "..        ...       ...       ...  \n",
      "437 -0.002592  0.031193  0.007207  \n",
      "438  0.034309 -0.018118  0.044485  \n",
      "439 -0.011080 -0.046879  0.015491  \n",
      "440  0.026560  0.044528 -0.025930  \n",
      "441 -0.039493 -0.004220  0.003064  \n",
      "\n",
      "[442 rows x 10 columns]\n",
      "       y\n",
      "0    151\n",
      "1     75\n",
      "2    141\n",
      "3    206\n",
      "4    135\n",
      "..   ...\n",
      "437  178\n",
      "438  104\n",
      "439  132\n",
      "440  220\n",
      "441   57\n",
      "\n",
      "[442 rows x 1 columns]\n"
     ]
    }
   ],
   "source": [
    "import pandas as pd\n",
    "dataset=pd.read_csv(\"diabetes.txt\",delim_whitespace=True)\n",
    "features= dataset.iloc[:,0:10]\n",
    "Labels= dataset.iloc[:,10:11]\n",
    "print(features)\n",
    "print(Labels)"
   ]
  },
  {
   "cell_type": "markdown",
   "id": "3ebb516a",
   "metadata": {},
   "source": [
    "__TASK 5:Splitting the dataset into the training and test sets using my birthday (in the\n",
    "format DDMM) as random_state.__"
   ]
  },
  {
   "cell_type": "code",
   "execution_count": 5,
   "id": "239fd8fb",
   "metadata": {},
   "outputs": [
    {
     "name": "stdout",
     "output_type": "stream",
     "text": [
      "(331, 10)\n",
      "(111, 10)\n",
      "(331, 1)\n",
      "(111, 1)\n"
     ]
    }
   ],
   "source": [
    "from sklearn.model_selection import train_test_split\n",
    "train_XX,test_XX,train_yy,test_yy= train_test_split(features,Labels,train_size=0.75,test_size=0.25,random_state=3110)\n",
    "print(train_XX.shape)\n",
    "print(test_XX.shape)\n",
    "print(train_yy.shape)\n",
    "print(test_yy.shape)"
   ]
  },
  {
   "cell_type": "markdown",
   "id": "8844341f",
   "metadata": {},
   "source": [
    "__TASK 6:Repeat item 3 for the current dataset and Commenting on the differences from\n",
    "what we observe in item 3.__"
   ]
  },
  {
   "cell_type": "markdown",
   "id": "abf3c565",
   "metadata": {},
   "source": [
    "* The main difference here in task 3 and 6 are:\n",
    "* The training and testing R2 score is improving as the dataset changes\n",
    "* further more Lasso is only using 2 features in Task 3 and make all other as zero while it's using all features in task 6.\n",
    "* This is what is known as a form of **automatic feature selection**."
   ]
  },
  {
   "cell_type": "code",
   "execution_count": 6,
   "id": "d63c4658",
   "metadata": {},
   "outputs": [
    {
     "name": "stdout",
     "output_type": "stream",
     "text": [
      "Training R2 score in Original Dataset: 0.35901908382457937\n",
      "Testing R2 score in Original Dataset: 0.36586111649693864\n",
      "Number of features used: 3\n",
      "[  0.           0.         325.21633113  27.0710417    0.\n",
      "   0.          -0.           0.         341.80553958   0.        ]\n",
      "All features: Index(['age', 'sex', 'bmi', 'map', 'tc', 'ldl', 'hdl', 'tch', 'ltg', 'glu',\n",
      "       'y'],\n",
      "      dtype='object')\n",
      "Feature  used: bmi\n",
      "Feature  used: map\n",
      "Feature  used: ltg\n"
     ]
    }
   ],
   "source": [
    "from sklearn.linear_model import Lasso\n",
    "lasso_new = Lasso().fit(train_XX,train_yy)\n",
    "print('Training R2 score in Original Dataset:',lasso_new.score(train_XX,train_yy))\n",
    "print('Testing R2 score in Original Dataset:',lasso_new.score(test_XX,test_yy))\n",
    "print('Number of features used:',np.sum(lasso_new.coef_ !=0))\n",
    "x = lasso_new.coef_ \n",
    "print(x)\n",
    "print('All features:',dataset.columns)\n",
    "for i in range(len(x)):\n",
    "    if x[i] != 0:\n",
    "        print('Feature  used:',dataset.columns[i])"
   ]
  },
  {
   "cell_type": "markdown",
   "id": "d0d056b2",
   "metadata": {},
   "source": [
    "__TASK 7:Preprocessing the training and test sets in the same way and avoiding data\n",
    "snooping. Using StandardScaler.__"
   ]
  },
  {
   "cell_type": "code",
   "execution_count": 7,
   "id": "828d488c",
   "metadata": {},
   "outputs": [
    {
     "name": "stdout",
     "output_type": "stream",
     "text": [
      "[[ 0.23866383  1.06559086  0.73719364 ...  2.96009726  0.96715684\n",
      "   0.97189782]\n",
      " [-0.79014377  1.06559086  1.48354327 ...  1.46348122  1.067754\n",
      "   1.39630175]\n",
      " [-0.27573997 -0.93844649  1.25737671 ...  0.6924972   1.49665046\n",
      "   0.12308996]\n",
      " ...\n",
      " [-1.89243763  1.06559086 -1.90895504 ... -0.06336949  0.50354771\n",
      "   0.03820918]\n",
      " [ 0.01820505 -0.93844649 -0.19008923 ... -0.81923617 -1.40559502\n",
      "  -1.15012182]\n",
      " [ 0.16517757 -0.93844649 -0.48410575 ... -1.46172286 -1.36751198\n",
      "  -0.81059868]]\n",
      "[[ 0.36677355 -0.93880559  0.52874303 ... -0.87198995  1.11934022\n",
      "  -0.51405156]\n",
      " [-0.42289623 -0.93880559  2.10325424 ... -0.02517556  1.25688278\n",
      "   1.01008128]\n",
      " [-2.17771796 -0.93880559 -1.68470027 ... -1.71880433 -1.27540272\n",
      "  -0.41879326]\n",
      " ...\n",
      " [ 0.45451464 -0.93880559  0.59720003 ... -0.74496779 -0.97732242\n",
      "  -0.51405156]\n",
      " [ 0.7177379  -0.93880559  1.0992181  ...  1.24504601 -1.00810834\n",
      "  -0.03776005]\n",
      " [ 0.36677355  1.06518326 -0.3840171  ...  0.82163882 -0.06347527\n",
      "  -0.13301835]]\n"
     ]
    }
   ],
   "source": [
    "from sklearn.preprocessing import StandardScaler\n",
    "scaler = StandardScaler()\n",
    "train_X_scaled = scaler.fit_transform(train_XX)\n",
    "test_X_scaled = scaler.fit_transform(test_XX)\n",
    "print(train_X_scaled)\n",
    "print(test_X_scaled)"
   ]
  },
  {
   "cell_type": "markdown",
   "id": "9d2b30bb",
   "metadata": {},
   "source": [
    "__TASK 8:Repeat item 3 for the current training and test sets.__"
   ]
  },
  {
   "cell_type": "code",
   "execution_count": 8,
   "id": "a158dabf",
   "metadata": {},
   "outputs": [
    {
     "name": "stdout",
     "output_type": "stream",
     "text": [
      "Training R2 score in Normalized data: 0.5220790901067937\n",
      "Testing R2 score in Normalized data: 0.486463719094818\n",
      "Number of features used: 9\n",
      "[ -0.59025591  -8.8850563   22.63918114  14.21799327  -8.28617402\n",
      "  -0.         -10.18440253   2.18496366  26.14063185   4.07861648]\n",
      "All features: Index(['age', 'sex', 'bmi', 'map', 'tc', 'ldl', 'hdl', 'tch', 'ltg', 'glu',\n",
      "       'y'],\n",
      "      dtype='object')\n",
      "Feature  used: age\n",
      "Feature  used: sex\n",
      "Feature  used: bmi\n",
      "Feature  used: map\n",
      "Feature  used: tc\n",
      "No feature used\n",
      "Feature  used: hdl\n",
      "Feature  used: tch\n",
      "Feature  used: ltg\n",
      "Feature  used: glu\n"
     ]
    }
   ],
   "source": [
    "from sklearn.linear_model import Lasso\n",
    "lasso_2 = Lasso().fit(train_X_scaled,train_yy)\n",
    "print('Training R2 score in Normalized data:',lasso_2.score(train_X_scaled,train_yy))\n",
    "print('Testing R2 score in Normalized data:',lasso_2.score(test_X_scaled,test_yy))\n",
    "print('Number of features used:',np.sum(lasso_2.coef_ !=0))\n",
    "x = lasso_2.coef_ \n",
    "print(x)\n",
    "print('All features:',dataset.columns)\n",
    "for i in range(len(x)):\n",
    "    if x[i] != 0:\n",
    "        print('Feature  used:',dataset.columns[i])\n",
    "    else:\n",
    "        print('No feature used')"
   ]
  },
  {
   "cell_type": "markdown",
   "id": "db10ee22",
   "metadata": {},
   "source": [
    "__Are our current results closer to those in item 3 or\n",
    "item 6? Notice that a priori you would expect your current results to be\n",
    "closer to those in item 3, since the reason for different results in items 3\n",
    "and 6 was that the former were for normalized data while the latter were\n",
    "for the original data. Is this expectation confirmed? If not, why?__"
   ]
  },
  {
   "cell_type": "markdown",
   "id": "dabb31b7",
   "metadata": {},
   "source": [
    "* No, The expectation is not confirmed in my case\n",
    "* If we have a large amount of features and expect only few of them to be important then, Lasso might be a better choice.\n",
    "* It could be the case that Lasso here is making even important features as zero."
   ]
  },
  {
   "cell_type": "markdown",
   "id": "fbf00053",
   "metadata": {},
   "source": [
    "__TASK 9:Varying the regularization parameter α in the Lasso, plotting the test R2 vs\n",
    "the number of features used (i.e., those with non-zero coefficients).__"
   ]
  },
  {
   "cell_type": "markdown",
   "id": "8329caa9",
   "metadata": {},
   "source": [
    "* I will prefer the value 7(Number of features used). Due to L1 regularization, Lasso has made 3 of the coefficient equal 0\n",
    "* At this point R2 value is more close to 1.\n",
    "* Here also I think value of alpha is optimal."
   ]
  },
  {
   "cell_type": "code",
   "execution_count": 9,
   "id": "3bfb78b2",
   "metadata": {},
   "outputs": [
    {
     "name": "stderr",
     "output_type": "stream",
     "text": [
      "C:\\Users\\ammar\\AppData\\Local\\Temp/ipykernel_49880/311076048.py:5: UserWarning: With alpha=0, this algorithm does not converge well. You are advised to use the LinearRegression estimator\n",
      "  lasso01 = Lasso(alpha=x,max_iter=100000).fit(train_X_scaled,train_yy)\n",
      "C:\\ProgramData\\Anaconda3\\lib\\site-packages\\sklearn\\linear_model\\_coordinate_descent.py:530: UserWarning: Coordinate descent with no regularization may lead to unexpected results and is discouraged.\n",
      "  model = cd_fast.enet_coordinate_descent(\n",
      "C:\\ProgramData\\Anaconda3\\lib\\site-packages\\sklearn\\linear_model\\_coordinate_descent.py:530: ConvergenceWarning: Objective did not converge. You might want to increase the number of iterations. Duality gap: 468502.67792277824, tolerance: 197.63306163141993\n",
      "  model = cd_fast.enet_coordinate_descent(\n"
     ]
    },
    {
     "data": {
      "text/plain": [
       "<matplotlib.legend.Legend at 0x1f037e858e0>"
      ]
     },
     "execution_count": 9,
     "metadata": {},
     "output_type": "execute_result"
    },
    {
     "data": {
      "image/png": "[encoded data removed]",
      "text/plain": [
       "<Figure size 432x288 with 1 Axes>"
      ]
     },
     "metadata": {
      "needs_background": "light"
     },
     "output_type": "display_data"
    }
   ],
   "source": [
    "from sklearn.linear_model import Lasso\n",
    "%matplotlib inline\n",
    "import matplotlib.pyplot as plt\n",
    "def LASSO(x):\n",
    "    lasso01 = Lasso(alpha=x,max_iter=100000).fit(train_X_scaled,train_yy)\n",
    "    return round(lasso01.score(test_X_scaled,test_yy),3),np.sum(lasso01.coef_ !=0)\n",
    "alphas=[0,0.0001,0.001, 0.01, 0.1, 2,5,7,10]\n",
    "x_plot=[]\n",
    "y_plot=[]\n",
    "for i in alphas:\n",
    "    x_cord,y_cord=LASSO(i)\n",
    "    y_plot.append(y_cord)\n",
    "    x_plot.append(x_cord)\n",
    "\n",
    "plt.plot(y_plot,x_plot, label=\"Test Accuracy\")\n",
    "plt.ylabel(\"R2 Values\")\n",
    "plt.xlabel(\"Number of feature used\")\n",
    "plt.legend(ncol=2,loc=(0,1.05))"
   ]
  },
  {
   "cell_type": "markdown",
   "id": "70ab9b9d",
   "metadata": {},
   "source": [
    "__TASK 10:Choosing the regularization parameter for the Lasso using cross-validation\n",
    "on the training set. Training the Lasso on the whole training set using the\n",
    "chosen values of the parameters. Reporting the resulting training and test\n",
    "R2 and the number of features used.__"
   ]
  },
  {
   "cell_type": "code",
   "execution_count": 10,
   "id": "8746379a",
   "metadata": {},
   "outputs": [
    {
     "name": "stderr",
     "output_type": "stream",
     "text": [
      "C:\\ProgramData\\Anaconda3\\lib\\site-packages\\sklearn\\model_selection\\_validation.py:598: UserWarning: With alpha=0, this algorithm does not converge well. You are advised to use the LinearRegression estimator\n",
      "  estimator.fit(X_train, y_train, **fit_params)\n",
      "C:\\ProgramData\\Anaconda3\\lib\\site-packages\\sklearn\\linear_model\\_coordinate_descent.py:530: UserWarning: Coordinate descent with no regularization may lead to unexpected results and is discouraged.\n",
      "  model = cd_fast.enet_coordinate_descent(\n",
      "C:\\ProgramData\\Anaconda3\\lib\\site-packages\\sklearn\\linear_model\\_coordinate_descent.py:530: ConvergenceWarning: Objective did not converge. You might want to increase the number of iterations. Duality gap: 414475.3557116703, tolerance: 170.20219461279464\n",
      "  model = cd_fast.enet_coordinate_descent(\n",
      "C:\\ProgramData\\Anaconda3\\lib\\site-packages\\sklearn\\model_selection\\_validation.py:598: UserWarning: With alpha=0, this algorithm does not converge well. You are advised to use the LinearRegression estimator\n",
      "  estimator.fit(X_train, y_train, **fit_params)\n",
      "C:\\ProgramData\\Anaconda3\\lib\\site-packages\\sklearn\\linear_model\\_coordinate_descent.py:530: UserWarning: Coordinate descent with no regularization may lead to unexpected results and is discouraged.\n",
      "  model = cd_fast.enet_coordinate_descent(\n",
      "C:\\ProgramData\\Anaconda3\\lib\\site-packages\\sklearn\\linear_model\\_coordinate_descent.py:530: ConvergenceWarning: Objective did not converge. You might want to increase the number of iterations. Duality gap: 425173.0026946971, tolerance: 176.28835302013425\n",
      "  model = cd_fast.enet_coordinate_descent(\n",
      "C:\\ProgramData\\Anaconda3\\lib\\site-packages\\sklearn\\model_selection\\_validation.py:598: UserWarning: With alpha=0, this algorithm does not converge well. You are advised to use the LinearRegression estimator\n",
      "  estimator.fit(X_train, y_train, **fit_params)\n",
      "C:\\ProgramData\\Anaconda3\\lib\\site-packages\\sklearn\\linear_model\\_coordinate_descent.py:530: UserWarning: Coordinate descent with no regularization may lead to unexpected results and is discouraged.\n",
      "  model = cd_fast.enet_coordinate_descent(\n",
      "C:\\ProgramData\\Anaconda3\\lib\\site-packages\\sklearn\\linear_model\\_coordinate_descent.py:530: ConvergenceWarning: Objective did not converge. You might want to increase the number of iterations. Duality gap: 408922.9790691333, tolerance: 180.71450201342284\n",
      "  model = cd_fast.enet_coordinate_descent(\n",
      "C:\\ProgramData\\Anaconda3\\lib\\site-packages\\sklearn\\model_selection\\_validation.py:598: UserWarning: With alpha=0, this algorithm does not converge well. You are advised to use the LinearRegression estimator\n",
      "  estimator.fit(X_train, y_train, **fit_params)\n",
      "C:\\ProgramData\\Anaconda3\\lib\\site-packages\\sklearn\\linear_model\\_coordinate_descent.py:530: UserWarning: Coordinate descent with no regularization may lead to unexpected results and is discouraged.\n",
      "  model = cd_fast.enet_coordinate_descent(\n",
      "C:\\ProgramData\\Anaconda3\\lib\\site-packages\\sklearn\\linear_model\\_coordinate_descent.py:530: ConvergenceWarning: Objective did not converge. You might want to increase the number of iterations. Duality gap: 408277.34797401115, tolerance: 178.94595973154364\n",
      "  model = cd_fast.enet_coordinate_descent(\n",
      "C:\\ProgramData\\Anaconda3\\lib\\site-packages\\sklearn\\model_selection\\_validation.py:598: UserWarning: With alpha=0, this algorithm does not converge well. You are advised to use the LinearRegression estimator\n",
      "  estimator.fit(X_train, y_train, **fit_params)\n",
      "C:\\ProgramData\\Anaconda3\\lib\\site-packages\\sklearn\\linear_model\\_coordinate_descent.py:530: UserWarning: Coordinate descent with no regularization may lead to unexpected results and is discouraged.\n",
      "  model = cd_fast.enet_coordinate_descent(\n",
      "C:\\ProgramData\\Anaconda3\\lib\\site-packages\\sklearn\\linear_model\\_coordinate_descent.py:530: ConvergenceWarning: Objective did not converge. You might want to increase the number of iterations. Duality gap: 411789.88658734644, tolerance: 173.31915201342284\n",
      "  model = cd_fast.enet_coordinate_descent(\n",
      "C:\\ProgramData\\Anaconda3\\lib\\site-packages\\sklearn\\model_selection\\_validation.py:598: UserWarning: With alpha=0, this algorithm does not converge well. You are advised to use the LinearRegression estimator\n",
      "  estimator.fit(X_train, y_train, **fit_params)\n",
      "C:\\ProgramData\\Anaconda3\\lib\\site-packages\\sklearn\\linear_model\\_coordinate_descent.py:530: UserWarning: Coordinate descent with no regularization may lead to unexpected results and is discouraged.\n",
      "  model = cd_fast.enet_coordinate_descent(\n",
      "C:\\ProgramData\\Anaconda3\\lib\\site-packages\\sklearn\\linear_model\\_coordinate_descent.py:530: ConvergenceWarning: Objective did not converge. You might want to increase the number of iterations. Duality gap: 425696.91322418884, tolerance: 180.68298959731544\n",
      "  model = cd_fast.enet_coordinate_descent(\n",
      "C:\\ProgramData\\Anaconda3\\lib\\site-packages\\sklearn\\model_selection\\_validation.py:598: UserWarning: With alpha=0, this algorithm does not converge well. You are advised to use the LinearRegression estimator\n",
      "  estimator.fit(X_train, y_train, **fit_params)\n",
      "C:\\ProgramData\\Anaconda3\\lib\\site-packages\\sklearn\\linear_model\\_coordinate_descent.py:530: UserWarning: Coordinate descent with no regularization may lead to unexpected results and is discouraged.\n",
      "  model = cd_fast.enet_coordinate_descent(\n",
      "C:\\ProgramData\\Anaconda3\\lib\\site-packages\\sklearn\\linear_model\\_coordinate_descent.py:530: ConvergenceWarning: Objective did not converge. You might want to increase the number of iterations. Duality gap: 423426.0828346512, tolerance: 178.77626208053692\n",
      "  model = cd_fast.enet_coordinate_descent(\n",
      "C:\\ProgramData\\Anaconda3\\lib\\site-packages\\sklearn\\model_selection\\_validation.py:598: UserWarning: With alpha=0, this algorithm does not converge well. You are advised to use the LinearRegression estimator\n",
      "  estimator.fit(X_train, y_train, **fit_params)\n",
      "C:\\ProgramData\\Anaconda3\\lib\\site-packages\\sklearn\\linear_model\\_coordinate_descent.py:530: UserWarning: Coordinate descent with no regularization may lead to unexpected results and is discouraged.\n",
      "  model = cd_fast.enet_coordinate_descent(\n",
      "C:\\ProgramData\\Anaconda3\\lib\\site-packages\\sklearn\\linear_model\\_coordinate_descent.py:530: ConvergenceWarning: Objective did not converge. You might want to increase the number of iterations. Duality gap: 419520.94865550415, tolerance: 179.70875872483222\n",
      "  model = cd_fast.enet_coordinate_descent(\n",
      "C:\\ProgramData\\Anaconda3\\lib\\site-packages\\sklearn\\model_selection\\_validation.py:598: UserWarning: With alpha=0, this algorithm does not converge well. You are advised to use the LinearRegression estimator\n",
      "  estimator.fit(X_train, y_train, **fit_params)\n",
      "C:\\ProgramData\\Anaconda3\\lib\\site-packages\\sklearn\\linear_model\\_coordinate_descent.py:530: UserWarning: Coordinate descent with no regularization may lead to unexpected results and is discouraged.\n",
      "  model = cd_fast.enet_coordinate_descent(\n",
      "C:\\ProgramData\\Anaconda3\\lib\\site-packages\\sklearn\\linear_model\\_coordinate_descent.py:530: ConvergenceWarning: Objective did not converge. You might want to increase the number of iterations. Duality gap: 431190.53534784645, tolerance: 175.55651174496646\n",
      "  model = cd_fast.enet_coordinate_descent(\n",
      "C:\\ProgramData\\Anaconda3\\lib\\site-packages\\sklearn\\model_selection\\_validation.py:598: UserWarning: With alpha=0, this algorithm does not converge well. You are advised to use the LinearRegression estimator\n",
      "  estimator.fit(X_train, y_train, **fit_params)\n",
      "C:\\ProgramData\\Anaconda3\\lib\\site-packages\\sklearn\\linear_model\\_coordinate_descent.py:530: UserWarning: Coordinate descent with no regularization may lead to unexpected results and is discouraged.\n",
      "  model = cd_fast.enet_coordinate_descent(\n"
     ]
    },
    {
     "name": "stdout",
     "output_type": "stream",
     "text": [
      "Training R2 score: 0.4889181200589179\n",
      "Best value of Alpha: {'alpha': 2, 'max_iter': 100000}\n"
     ]
    },
    {
     "name": "stderr",
     "output_type": "stream",
     "text": [
      "C:\\ProgramData\\Anaconda3\\lib\\site-packages\\sklearn\\linear_model\\_coordinate_descent.py:530: ConvergenceWarning: Objective did not converge. You might want to increase the number of iterations. Duality gap: 433379.16870784794, tolerance: 183.55655201342284\n",
      "  model = cd_fast.enet_coordinate_descent(\n"
     ]
    }
   ],
   "source": [
    "param_grid = {'alpha': [0,0.0001,0.001, 0.01, 0.1, 2,5,7,10],\n",
    "             'max_iter':[100000]}\n",
    "from sklearn.model_selection import GridSearchCV\n",
    "grid_search = GridSearchCV(Lasso(), param_grid, cv=10)\n",
    "grid_search.fit(train_X_scaled,train_yy)\n",
    "print('Training R2 score:',grid_search.score(test_X_scaled,test_yy))\n",
    "print('Best value of Alpha:',grid_search.best_params_)"
   ]
  },
  {
   "cell_type": "code",
   "execution_count": 11,
   "id": "aa24fda3",
   "metadata": {},
   "outputs": [
    {
     "name": "stdout",
     "output_type": "stream",
     "text": [
      "Training R2 score in Normalized data: 0.5170699623448385\n",
      "Testing R2 score in Normalized data: 0.4889181200589179\n",
      "Number of features used: 7\n",
      "[ -0.          -6.9564373   22.28265837  13.10046504  -4.99978044\n",
      "  -0.         -11.26541592   0.          24.99350176   3.08585468]\n",
      "All features: Index(['age', 'sex', 'bmi', 'map', 'tc', 'ldl', 'hdl', 'tch', 'ltg', 'glu',\n",
      "       'y'],\n",
      "      dtype='object')\n",
      "No feature used\n",
      "Feature  used: sex\n",
      "Feature  used: bmi\n",
      "Feature  used: map\n",
      "Feature  used: tc\n",
      "No feature used\n",
      "Feature  used: hdl\n",
      "No feature used\n",
      "Feature  used: ltg\n",
      "Feature  used: glu\n"
     ]
    }
   ],
   "source": [
    "from sklearn.linear_model import Lasso\n",
    "lasso_best = Lasso(alpha=2).fit(train_X_scaled,train_yy)\n",
    "print('Training R2 score in Normalized data:',lasso_best.score(train_X_scaled,train_yy))\n",
    "print('Testing R2 score in Normalized data:',lasso_best.score(test_X_scaled,test_yy))\n",
    "print('Number of features used:',np.sum(lasso_best.coef_ !=0))\n",
    "x = lasso_best.coef_ \n",
    "print(x)\n",
    "print('All features:',dataset.columns)\n",
    "for i in range(len(x)):\n",
    "    if x[i] != 0:\n",
    "        print('Feature  used:',dataset.columns[i])\n",
    "    else:\n",
    "        print('No feature used')"
   ]
  },
  {
   "cell_type": "markdown",
   "id": "fd309c91",
   "metadata": {},
   "source": [
    "__<h1>Task 11:Implementing an inductive conformal predictor as follows:</h1>__"
   ]
  },
  {
   "cell_type": "markdown",
   "id": "10279793",
   "metadata": {},
   "source": [
    "__(a) Splitting the training set that we obtained in item 5 into two parts:\n",
    "the calibration set of size 99 and the rest of the training set (the\n",
    "training set proper). Using birthday (in the format DDMM) as\n",
    "random_state.__"
   ]
  },
  {
   "cell_type": "code",
   "execution_count": 12,
   "id": "44f48cde",
   "metadata": {},
   "outputs": [
    {
     "name": "stdout",
     "output_type": "stream",
     "text": [
      "(232, 10)\n",
      "(99, 10)\n",
      "(232, 1)\n",
      "(99, 1)\n"
     ]
    }
   ],
   "source": [
    "X_train_proper, X_calibration, y_train_proper, y_calibration= train_test_split(train_XX,train_yy,test_size=99,random_state=3110)\n",
    "print(X_train_proper.shape)\n",
    "print(X_calibration.shape)\n",
    "print(y_train_proper.shape)\n",
    "print(y_calibration.shape)"
   ]
  },
  {
   "cell_type": "markdown",
   "id": "485ca3be",
   "metadata": {},
   "source": [
    "__(b) Preprocessing the training set proper, calibration set, and test set in\n",
    "the same way using StandardScaler. Namely, fit the scaler to the\n",
    "training set proper and then use it to transform all three.__"
   ]
  },
  {
   "cell_type": "code",
   "execution_count": 13,
   "id": "fd4f923d",
   "metadata": {},
   "outputs": [],
   "source": [
    "from sklearn.preprocessing import StandardScaler\n",
    "scaler_new = StandardScaler()\n",
    "scaler_new.fit(X_train_proper)\n",
    "X_train_proper_scaled = scaler_new.transform(X_train_proper)\n",
    "X_calibration_scaled = scaler_new.transform(X_calibration)\n",
    "test_X_scaled = scaler.fit_transform(test_XX)"
   ]
  },
  {
   "cell_type": "markdown",
   "id": "832c3516",
   "metadata": {},
   "source": [
    "__(c)Using the nonconformity measure α = |y − yˆ|, where y is the true\n",
    "label and ˆy is its prediction given the training set proper, for each test\n",
    "sample computing the prediction interval for it. Doing this for significance\n",
    "levels 5% and 20%. For each of these significance levels also computing:\n",
    " the length of the prediction intervals for the test samples\n",
    " and the test error rate of our inductive conformal predictor\n",
    ".__"
   ]
  },
  {
   "cell_type": "code",
   "execution_count": 14,
   "id": "339d3e24",
   "metadata": {},
   "outputs": [],
   "source": [
    "def prediction(X_train_proper_scaled,y_train_proper,X_calibration_scaled,y_calibration):\n",
    "    lasso_final = Lasso(alpha=2).fit(X_train_proper_scaled,y_train_proper)\n",
    "    print('Training R2 score in Normalized data:',lasso_final.score(X_train_proper_scaled,y_train_proper))\n",
    "    y_hat =lasso_final.predict(X_calibration_scaled)\n",
    "    result=[]\n",
    "    array1 = np.array(y_calibration)\n",
    "    array2 = np.array(y_hat)\n",
    "    for i in range(len(array1)):\n",
    "        result.append(array1[i]-array2[i])\n",
    "    result=np.concatenate(result, axis=0)\n",
    "    print('Different values of alpha:',np.absolute(result))"
   ]
  },
  {
   "cell_type": "code",
   "execution_count": 15,
   "id": "21fdccc0",
   "metadata": {},
   "outputs": [
    {
     "name": "stdout",
     "output_type": "stream",
     "text": [
      "Training R2 score in Normalized data: 0.5355551717842536\n",
      "Different values of alpha: [  9.31425019  11.33576051 119.32931757 119.08430716  95.075688\n",
      "  11.09435999   8.61606448  92.81954955  87.03952306  19.8397432\n",
      "  96.16714722 103.65951103  47.97775047  14.38168549  91.61270174\n",
      "  17.09949025  12.49284524  38.24454669   1.54655344  63.25704931\n",
      "  23.66465778  18.39933036   9.0104915   57.48650293  15.6137564\n",
      "  23.55399711  49.36258561  38.70687005  12.48660788  26.30026549\n",
      "  39.5947327   20.69734215  97.00149191  32.28396319  67.50336744\n",
      "  99.30243938  88.46984057 139.20483026  62.09996911  58.14746608\n",
      "  21.97326938  74.80294043  67.83805601 105.72279168   8.74458578\n",
      "  25.51800744   2.4842174  112.91645353   4.89274753  12.44076843\n",
      "  19.30509109  21.08198894  15.71869249  98.99282772  88.57634281\n",
      "  71.60539762  43.18336269   4.57492578  28.24475884  37.54482519\n",
      "  29.35468165  41.79480795  33.57098907  81.61169285  70.53922046\n",
      "  54.14441098  30.37248344  41.51423974  32.73889493  50.50426747\n",
      "  14.64835951  19.68242135  10.13367809  63.47464045  66.67061046\n",
      "  91.33748733  10.56535882  20.16715559  25.5018316    6.05994589\n",
      "  42.12091614  89.80548654 156.17531735  47.98251911  36.91841034\n",
      "  27.10226029  56.98878939  93.75375484  26.2809813   55.86618974\n",
      "  15.16767115  42.05100763  70.04883238  42.13948544  39.19129367\n",
      "  58.06254535  52.75728698  85.31830037   4.74063228]\n"
     ]
    }
   ],
   "source": [
    "prediction(X_train_proper_scaled,y_train_proper,X_calibration_scaled,y_calibration)"
   ]
  }
 ],
 "metadata": {
  "kernelspec": {
   "display_name": "Python 3 (ipykernel)",
   "language": "python",
   "name": "python3"
  },
  "language_info": {
   "codemirror_mode": {
    "name": "ipython",
    "version": 3
   },
   "file_extension": ".py",
   "mimetype": "text/x-python",
   "name": "python",
   "nbconvert_exporter": "python",
   "pygments_lexer": "ipython3",
   "version": "3.9.7"
  }
 },
 "nbformat": 4,
 "nbformat_minor": 5
}
